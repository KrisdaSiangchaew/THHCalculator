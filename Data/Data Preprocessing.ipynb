{
 "cells": [
  {
   "cell_type": "markdown",
   "metadata": {},
   "source": [
    "# Preprocessing of 30-year Thai lottery numbers"
   ]
  },
  {
   "cell_type": "code",
   "execution_count": 26,
   "metadata": {},
   "outputs": [],
   "source": [
    "import numpy as np\n",
    "import pandas as pd"
   ]
  },
  {
   "cell_type": "markdown",
   "metadata": {},
   "source": [
    "## Read in csv file"
   ]
  },
  {
   "cell_type": "code",
   "execution_count": 27,
   "metadata": {},
   "outputs": [],
   "source": [
    "csvFile = pd.read_csv(\"30Y.csv\")\n",
    "dataFrame = pd.DataFrame(data=csvFile, columns=['Day', 'Month', 'Year', '1St'])"
   ]
  },
  {
   "cell_type": "markdown",
   "metadata": {},
   "source": [
    "## Find 100th, 10th, and 1th place value from first winning number"
   ]
  },
  {
   "cell_type": "code",
   "execution_count": 38,
   "metadata": {},
   "outputs": [],
   "source": [
    "hundred = (dataFrame['1St'] / 100) % 10\n",
    "ten = (dataFrame['1St'] / 10) % 10\n",
    "one = (dataFrame['1St'] / 1) % 10"
   ]
  },
  {
   "cell_type": "markdown",
   "metadata": {},
   "source": [
    "## Create artifact"
   ]
  },
  {
   "cell_type": "code",
   "execution_count": 47,
   "metadata": {},
   "outputs": [],
   "source": [
    "sum = hundred + ten + one"
   ]
  },
  {
   "cell_type": "markdown",
   "metadata": {},
   "source": [
    "## Add everything into dataframe"
   ]
  },
  {
   "cell_type": "code",
   "execution_count": 48,
   "metadata": {},
   "outputs": [],
   "source": [
    "dataFrame['hundredth'] = hundred.astype(int)\n",
    "dataFrame['tenth'] = ten.astype(int)\n",
    "dataFrame['oneth'] = one.astype(int)\n",
    "dataFrame['sum'] = sum.astype(int)"
   ]
  },
  {
   "cell_type": "markdown",
   "metadata": {},
   "source": [
    "## Check result"
   ]
  },
  {
   "cell_type": "code",
   "execution_count": 49,
   "metadata": {},
   "outputs": [
    {
     "data": {
      "text/html": [
       "<div>\n",
       "<style scoped>\n",
       "    .dataframe tbody tr th:only-of-type {\n",
       "        vertical-align: middle;\n",
       "    }\n",
       "\n",
       "    .dataframe tbody tr th {\n",
       "        vertical-align: top;\n",
       "    }\n",
       "\n",
       "    .dataframe thead th {\n",
       "        text-align: right;\n",
       "    }\n",
       "</style>\n",
       "<table border=\"1\" class=\"dataframe\">\n",
       "  <thead>\n",
       "    <tr style=\"text-align: right;\">\n",
       "      <th></th>\n",
       "      <th>Day</th>\n",
       "      <th>Month</th>\n",
       "      <th>Year</th>\n",
       "      <th>1St</th>\n",
       "      <th>hundredth</th>\n",
       "      <th>tenth</th>\n",
       "      <th>oneth</th>\n",
       "      <th>sum</th>\n",
       "    </tr>\n",
       "  </thead>\n",
       "  <tbody>\n",
       "    <tr>\n",
       "      <th>0</th>\n",
       "      <td>16</td>\n",
       "      <td>12</td>\n",
       "      <td>2563</td>\n",
       "      <td>201303</td>\n",
       "      <td>3</td>\n",
       "      <td>0</td>\n",
       "      <td>3</td>\n",
       "      <td>6</td>\n",
       "    </tr>\n",
       "    <tr>\n",
       "      <th>1</th>\n",
       "      <td>1</td>\n",
       "      <td>12</td>\n",
       "      <td>2563</td>\n",
       "      <td>100994</td>\n",
       "      <td>9</td>\n",
       "      <td>9</td>\n",
       "      <td>4</td>\n",
       "      <td>23</td>\n",
       "    </tr>\n",
       "    <tr>\n",
       "      <th>2</th>\n",
       "      <td>16</td>\n",
       "      <td>11</td>\n",
       "      <td>2563</td>\n",
       "      <td>972661</td>\n",
       "      <td>6</td>\n",
       "      <td>6</td>\n",
       "      <td>1</td>\n",
       "      <td>13</td>\n",
       "    </tr>\n",
       "    <tr>\n",
       "      <th>3</th>\n",
       "      <td>1</td>\n",
       "      <td>11</td>\n",
       "      <td>2563</td>\n",
       "      <td>506404</td>\n",
       "      <td>4</td>\n",
       "      <td>0</td>\n",
       "      <td>4</td>\n",
       "      <td>8</td>\n",
       "    </tr>\n",
       "    <tr>\n",
       "      <th>4</th>\n",
       "      <td>16</td>\n",
       "      <td>10</td>\n",
       "      <td>2563</td>\n",
       "      <td>286051</td>\n",
       "      <td>0</td>\n",
       "      <td>5</td>\n",
       "      <td>1</td>\n",
       "      <td>6</td>\n",
       "    </tr>\n",
       "  </tbody>\n",
       "</table>\n",
       "</div>"
      ],
      "text/plain": [
       "   Day  Month  Year     1St  hundredth  tenth  oneth  sum\n",
       "0   16     12  2563  201303          3      0      3    6\n",
       "1    1     12  2563  100994          9      9      4   23\n",
       "2   16     11  2563  972661          6      6      1   13\n",
       "3    1     11  2563  506404          4      0      4    8\n",
       "4   16     10  2563  286051          0      5      1    6"
      ]
     },
     "execution_count": 49,
     "metadata": {},
     "output_type": "execute_result"
    }
   ],
   "source": [
    "dataFrame.head()"
   ]
  },
  {
   "cell_type": "markdown",
   "metadata": {},
   "source": [
    "## Save to another csv file"
   ]
  },
  {
   "cell_type": "markdown",
   "metadata": {},
   "source": [
    "### Complete file"
   ]
  },
  {
   "cell_type": "code",
   "execution_count": 75,
   "metadata": {},
   "outputs": [],
   "source": [
    "dataFrame.to_csv('30Y_preproc.csv')"
   ]
  },
  {
   "cell_type": "markdown",
   "metadata": {},
   "source": [
    "### Training file"
   ]
  },
  {
   "cell_type": "code",
   "execution_count": 76,
   "metadata": {},
   "outputs": [],
   "source": [
    "training = dataFrame.sample(frac=0.9)\n",
    "training.to_csv('30Y_preproc_training.csv')"
   ]
  },
  {
   "cell_type": "markdown",
   "metadata": {},
   "source": [
    "### Evalluation file"
   ]
  },
  {
   "cell_type": "code",
   "execution_count": 77,
   "metadata": {},
   "outputs": [],
   "source": [
    "evaluation = dataFrame.drop(labels=training.index)\n",
    "evaluation.to_csv('30Y_preproc_eval.csv')"
   ]
  },
  {
   "cell_type": "markdown",
   "metadata": {},
   "source": [
    "### JSON source file"
   ]
  },
  {
   "cell_type": "code",
   "execution_count": 82,
   "metadata": {},
   "outputs": [],
   "source": [
    "new_csv = pd.read_csv(\"30Y.csv\")\n",
    "new_dataFrame = pd.DataFrame(data=new_csv)\n",
    "new_dataFrame.reset_index(drop=True)\n",
    "new_dataFrame.to_json('30Y_preproc.json')"
   ]
  },
  {
   "cell_type": "code",
   "execution_count": 84,
   "metadata": {},
   "outputs": [
    {
     "data": {
      "text/html": [
       "<div>\n",
       "<style scoped>\n",
       "    .dataframe tbody tr th:only-of-type {\n",
       "        vertical-align: middle;\n",
       "    }\n",
       "\n",
       "    .dataframe tbody tr th {\n",
       "        vertical-align: top;\n",
       "    }\n",
       "\n",
       "    .dataframe thead th {\n",
       "        text-align: right;\n",
       "    }\n",
       "</style>\n",
       "<table border=\"1\" class=\"dataframe\">\n",
       "  <thead>\n",
       "    <tr style=\"text-align: right;\">\n",
       "      <th></th>\n",
       "      <th>Day</th>\n",
       "      <th>Month</th>\n",
       "      <th>Year</th>\n",
       "      <th>1St</th>\n",
       "      <th>2ตัวบน</th>\n",
       "      <th>3ตัวบน</th>\n",
       "      <th>2ตัวล่าง</th>\n",
       "      <th>3ตัวหน้า1</th>\n",
       "      <th>3ตัวหน้า2</th>\n",
       "      <th>3ตัวล่าง1</th>\n",
       "      <th>3ตัวล่าง</th>\n",
       "    </tr>\n",
       "  </thead>\n",
       "  <tbody>\n",
       "    <tr>\n",
       "      <th>0</th>\n",
       "      <td>16</td>\n",
       "      <td>12</td>\n",
       "      <td>2563</td>\n",
       "      <td>201303</td>\n",
       "      <td>3</td>\n",
       "      <td>303</td>\n",
       "      <td>70</td>\n",
       "      <td>377</td>\n",
       "      <td>828</td>\n",
       "      <td>72</td>\n",
       "      <td>517</td>\n",
       "    </tr>\n",
       "    <tr>\n",
       "      <th>1</th>\n",
       "      <td>1</td>\n",
       "      <td>12</td>\n",
       "      <td>2563</td>\n",
       "      <td>100994</td>\n",
       "      <td>94</td>\n",
       "      <td>994</td>\n",
       "      <td>84</td>\n",
       "      <td>93</td>\n",
       "      <td>776</td>\n",
       "      <td>834</td>\n",
       "      <td>984</td>\n",
       "    </tr>\n",
       "    <tr>\n",
       "      <th>2</th>\n",
       "      <td>16</td>\n",
       "      <td>11</td>\n",
       "      <td>2563</td>\n",
       "      <td>972661</td>\n",
       "      <td>61</td>\n",
       "      <td>661</td>\n",
       "      <td>46</td>\n",
       "      <td>368</td>\n",
       "      <td>741</td>\n",
       "      <td>208</td>\n",
       "      <td>255</td>\n",
       "    </tr>\n",
       "    <tr>\n",
       "      <th>3</th>\n",
       "      <td>1</td>\n",
       "      <td>11</td>\n",
       "      <td>2563</td>\n",
       "      <td>506404</td>\n",
       "      <td>4</td>\n",
       "      <td>404</td>\n",
       "      <td>40</td>\n",
       "      <td>154</td>\n",
       "      <td>598</td>\n",
       "      <td>62</td>\n",
       "      <td>245</td>\n",
       "    </tr>\n",
       "    <tr>\n",
       "      <th>4</th>\n",
       "      <td>16</td>\n",
       "      <td>10</td>\n",
       "      <td>2563</td>\n",
       "      <td>286051</td>\n",
       "      <td>51</td>\n",
       "      <td>51</td>\n",
       "      <td>38</td>\n",
       "      <td>189</td>\n",
       "      <td>464</td>\n",
       "      <td>45</td>\n",
       "      <td>980</td>\n",
       "    </tr>\n",
       "  </tbody>\n",
       "</table>\n",
       "</div>"
      ],
      "text/plain": [
       "   Day  Month  Year     1St  2ตัวบน  3ตัวบน  2ตัวล่าง  3ตัวหน้า1  3ตัวหน้า2  \\\n",
       "0   16     12  2563  201303       3     303        70        377        828   \n",
       "1    1     12  2563  100994      94     994        84         93        776   \n",
       "2   16     11  2563  972661      61     661        46        368        741   \n",
       "3    1     11  2563  506404       4     404        40        154        598   \n",
       "4   16     10  2563  286051      51      51        38        189        464   \n",
       "\n",
       "   3ตัวล่าง1  3ตัวล่าง  \n",
       "0         72       517  \n",
       "1        834       984  \n",
       "2        208       255  \n",
       "3         62       245  \n",
       "4         45       980  "
      ]
     },
     "execution_count": 84,
     "metadata": {},
     "output_type": "execute_result"
    }
   ],
   "source": [
    "new_dataFrame.head()"
   ]
  },
  {
   "cell_type": "code",
   "execution_count": null,
   "metadata": {},
   "outputs": [],
   "source": []
  }
 ],
 "metadata": {
  "kernelspec": {
   "display_name": "Python 3",
   "language": "python",
   "name": "python3"
  },
  "language_info": {
   "codemirror_mode": {
    "name": "ipython",
    "version": 3
   },
   "file_extension": ".py",
   "mimetype": "text/x-python",
   "name": "python",
   "nbconvert_exporter": "python",
   "pygments_lexer": "ipython3",
   "version": "3.8.3"
  }
 },
 "nbformat": 4,
 "nbformat_minor": 4
}
